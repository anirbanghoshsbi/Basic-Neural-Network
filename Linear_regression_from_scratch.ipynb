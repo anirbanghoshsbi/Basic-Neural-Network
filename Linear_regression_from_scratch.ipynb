{
  "nbformat": 4,
  "nbformat_minor": 0,
  "metadata": {
    "colab": {
      "name": "Linear_regression_from_scratch.ipynb",
      "version": "0.3.2",
      "views": {},
      "default_view": {},
      "provenance": []
    },
    "kernelspec": {
      "name": "python3",
      "display_name": "Python 3"
    }
  },
  "cells": [
    {
      "metadata": {
        "id": "_1YlLN1vex36",
        "colab_type": "code",
        "colab": {
          "autoexec": {
            "startup": false,
            "wait_interval": 0
          }
        }
      },
      "cell_type": "code",
      "source": [
        "from sklearn import datasets\n",
        "import numpy as np\n",
        "from collections import Counter\n",
        "import matplotlib.pyplot as plt"
      ],
      "execution_count": 0,
      "outputs": []
    },
    {
      "metadata": {
        "id": "sLemUe8ifLnq",
        "colab_type": "text"
      },
      "cell_type": "markdown",
      "source": [
        "# Linear Regression : From Scratch"
      ]
    },
    {
      "metadata": {
        "id": "dxARXNbWfGnm",
        "colab_type": "code",
        "colab": {
          "autoexec": {
            "startup": false,
            "wait_interval": 0
          }
        }
      },
      "cell_type": "code",
      "source": [
        "X , y = datasets.make_regression(n_samples =100 , n_features=1 , noise =10 , bias =2)"
      ],
      "execution_count": 0,
      "outputs": []
    },
    {
      "metadata": {
        "id": "riMx4jacflaH",
        "colab_type": "code",
        "colab": {
          "autoexec": {
            "startup": false,
            "wait_interval": 0
          },
          "base_uri": "https://localhost:8080/",
          "height": 34
        },
        "outputId": "45971435-58bf-4db6-bbbc-d486f190a941",
        "executionInfo": {
          "status": "ok",
          "timestamp": 1533580046576,
          "user_tz": -330,
          "elapsed": 893,
          "user": {
            "displayName": "Anirban Ghosh",
            "photoUrl": "https://lh3.googleusercontent.com/a/default-user=s128",
            "userId": "114654144150629633726"
          }
        }
      },
      "cell_type": "code",
      "source": [
        "X.shape"
      ],
      "execution_count": 4,
      "outputs": [
        {
          "output_type": "execute_result",
          "data": {
            "text/plain": [
              "(100, 1)"
            ]
          },
          "metadata": {
            "tags": []
          },
          "execution_count": 4
        }
      ]
    },
    {
      "metadata": {
        "id": "_X2YpNvOfmz8",
        "colab_type": "code",
        "colab": {
          "autoexec": {
            "startup": false,
            "wait_interval": 0
          },
          "base_uri": "https://localhost:8080/",
          "height": 34
        },
        "outputId": "78e6739b-ee31-499a-a296-cf99fb9d019a",
        "executionInfo": {
          "status": "ok",
          "timestamp": 1533580051727,
          "user_tz": -330,
          "elapsed": 1116,
          "user": {
            "displayName": "Anirban Ghosh",
            "photoUrl": "https://lh3.googleusercontent.com/a/default-user=s128",
            "userId": "114654144150629633726"
          }
        }
      },
      "cell_type": "code",
      "source": [
        "y.shape"
      ],
      "execution_count": 5,
      "outputs": [
        {
          "output_type": "execute_result",
          "data": {
            "text/plain": [
              "(100,)"
            ]
          },
          "metadata": {
            "tags": []
          },
          "execution_count": 5
        }
      ]
    },
    {
      "metadata": {
        "id": "2yvKNXsvfoBT",
        "colab_type": "code",
        "colab": {
          "autoexec": {
            "startup": false,
            "wait_interval": 0
          },
          "base_uri": "https://localhost:8080/",
          "height": 187
        },
        "outputId": "8e5139b3-1fe6-4fa9-d99e-b0b2f4ff23e6",
        "executionInfo": {
          "status": "ok",
          "timestamp": 1533580098555,
          "user_tz": -330,
          "elapsed": 1415,
          "user": {
            "displayName": "Anirban Ghosh",
            "photoUrl": "https://lh3.googleusercontent.com/a/default-user=s128",
            "userId": "114654144150629633726"
          }
        }
      },
      "cell_type": "code",
      "source": [
        "X[:10]"
      ],
      "execution_count": 9,
      "outputs": [
        {
          "output_type": "execute_result",
          "data": {
            "text/plain": [
              "array([[ 1.16902306],\n",
              "       [ 0.74528699],\n",
              "       [-2.27882946],\n",
              "       [-1.3803977 ],\n",
              "       [-1.39567557],\n",
              "       [-0.61011227],\n",
              "       [-0.05182887],\n",
              "       [ 1.01186187],\n",
              "       [ 0.65967868],\n",
              "       [ 0.69109426]])"
            ]
          },
          "metadata": {
            "tags": []
          },
          "execution_count": 9
        }
      ]
    },
    {
      "metadata": {
        "id": "yqgy5pCIfqWg",
        "colab_type": "code",
        "colab": {
          "autoexec": {
            "startup": false,
            "wait_interval": 0
          },
          "base_uri": "https://localhost:8080/",
          "height": 68
        },
        "outputId": "8e1e049f-1ad9-443d-b96c-bf416bef3b5b",
        "executionInfo": {
          "status": "ok",
          "timestamp": 1533580114461,
          "user_tz": -330,
          "elapsed": 1135,
          "user": {
            "displayName": "Anirban Ghosh",
            "photoUrl": "https://lh3.googleusercontent.com/a/default-user=s128",
            "userId": "114654144150629633726"
          }
        }
      },
      "cell_type": "code",
      "source": [
        "y[:10]"
      ],
      "execution_count": 10,
      "outputs": [
        {
          "output_type": "execute_result",
          "data": {
            "text/plain": [
              "array([ 23.37945146,  31.48638419, -45.30572257, -35.69781416,\n",
              "       -36.9256317 , -13.06598878,  -0.66104328,  38.1878351 ,\n",
              "         8.01611088,  20.86801861])"
            ]
          },
          "metadata": {
            "tags": []
          },
          "execution_count": 10
        }
      ]
    },
    {
      "metadata": {
        "id": "vHQAxiMsf3VM",
        "colab_type": "code",
        "colab": {
          "autoexec": {
            "startup": false,
            "wait_interval": 0
          }
        }
      },
      "cell_type": "code",
      "source": [
        "w = np.random.randn(1,1) # input_dim =1 , output=1\n",
        "#w = np.random.randn(1).reshape(-1,1) # converts a row vector to column vector"
      ],
      "execution_count": 0,
      "outputs": []
    },
    {
      "metadata": {
        "id": "DAW6DlRClvGL",
        "colab_type": "code",
        "colab": {
          "autoexec": {
            "startup": false,
            "wait_interval": 0
          }
        }
      },
      "cell_type": "code",
      "source": [
        ""
      ],
      "execution_count": 0,
      "outputs": []
    },
    {
      "metadata": {
        "id": "RMazxwvpf7of",
        "colab_type": "code",
        "colab": {
          "autoexec": {
            "startup": false,
            "wait_interval": 0
          },
          "base_uri": "https://localhost:8080/",
          "height": 34
        },
        "outputId": "24de4863-a331-4103-cf17-834cb062d4a8",
        "executionInfo": {
          "status": "ok",
          "timestamp": 1533580605752,
          "user_tz": -330,
          "elapsed": 1779,
          "user": {
            "displayName": "Anirban Ghosh",
            "photoUrl": "https://lh3.googleusercontent.com/a/default-user=s128",
            "userId": "114654144150629633726"
          }
        }
      },
      "cell_type": "code",
      "source": [
        "w"
      ],
      "execution_count": 21,
      "outputs": [
        {
          "output_type": "execute_result",
          "data": {
            "text/plain": [
              "array([[-0.51844074]])"
            ]
          },
          "metadata": {
            "tags": []
          },
          "execution_count": 21
        }
      ]
    },
    {
      "metadata": {
        "id": "-VnIgAMlf8tq",
        "colab_type": "code",
        "colab": {
          "autoexec": {
            "startup": false,
            "wait_interval": 0
          }
        }
      },
      "cell_type": "code",
      "source": [
        "b=[0]"
      ],
      "execution_count": 0,
      "outputs": []
    },
    {
      "metadata": {
        "id": "ZptxPABfh3l2",
        "colab_type": "code",
        "colab": {
          "autoexec": {
            "startup": false,
            "wait_interval": 0
          }
        }
      },
      "cell_type": "code",
      "source": [
        "#hyper parameters\n",
        "alpha = 0.0001\n",
        "\n",
        "loss=[]\n"
      ],
      "execution_count": 0,
      "outputs": []
    },
    {
      "metadata": {
        "id": "uxHKWr3fiTQ2",
        "colab_type": "code",
        "colab": {
          "autoexec": {
            "startup": false,
            "wait_interval": 0
          }
        }
      },
      "cell_type": "code",
      "source": [
        "i=0\n",
        "# perform the gradient descent\n",
        "for _ in range(3000):\n",
        "  train_X , train_y = X[i],y[i]\n",
        "  #forward pass\n",
        "  y_pred=train_X.dot(w)+b\n",
        "  loss_1 = np.mean((train_y-y_pred)**2)\n",
        "  loss.append(loss_1)\n",
        "  # backward prop\n",
        "  dl = -1*(train_y-y_pred)\n",
        "  dw = train_X.dot(dl)\n",
        "  db=dl\n",
        "  new_w = w - alpha * dw\n",
        "  new_b = b - alpha * db\n",
        "    \n",
        "  w = new_w\n",
        "  b = new_b"
      ],
      "execution_count": 0,
      "outputs": []
    },
    {
      "metadata": {
        "id": "i9qSsWmpiTfH",
        "colab_type": "code",
        "colab": {
          "autoexec": {
            "startup": false,
            "wait_interval": 0
          },
          "base_uri": "https://localhost:8080/",
          "height": 362
        },
        "outputId": "26f66e79-09c4-4bc9-d32c-40ebe5b83287",
        "executionInfo": {
          "status": "ok",
          "timestamp": 1533581538073,
          "user_tz": -330,
          "elapsed": 1375,
          "user": {
            "displayName": "Anirban Ghosh",
            "photoUrl": "https://lh3.googleusercontent.com/a/default-user=s128",
            "userId": "114654144150629633726"
          }
        }
      },
      "cell_type": "code",
      "source": [
        "plt.figure(1)\n",
        "\n",
        "# plot data\n",
        "plt.subplot(121)\n",
        "plt.title('prediction')\n",
        "plt.scatter(X,y)\n",
        "\n",
        "# plot trained model regression line\n",
        "xs = np.linspace(min(X), max(X), 1000).reshape(-1, X.shape[1])\n",
        "ys = np.dot(xs,w) + b\n",
        "plt.plot(xs,ys, color='red')\n",
        "\n",
        "plt.subplot(122)\n",
        "plt.title('loss')\n",
        "plt.plot(loss)\n",
        "plt.show()"
      ],
      "execution_count": 37,
      "outputs": [
        {
          "output_type": "display_data",
          "data": {
            "image/png": "[encoded data removed]",
            "text/plain": [
              "<matplotlib.figure.Figure at 0x7ff8516d9f28>"
            ]
          },
          "metadata": {
            "tags": []
          }
        }
      ]
    }
  ]
}