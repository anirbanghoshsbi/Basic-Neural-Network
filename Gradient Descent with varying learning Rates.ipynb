{
 "cells": [
  {
   "cell_type": "code",
   "execution_count": 50,
   "metadata": {},
   "outputs": [],
   "source": [
    "import numpy as np"
   ]
  },
  {
   "cell_type": "code",
   "execution_count": 57,
   "metadata": {
    "collapsed": true
   },
   "outputs": [],
   "source": [
    "#learning Rates\n",
    "lrs = [0.001 , 0.01 , 0.1, 1, 10,100,1000]\n",
    "\n",
    "hidden_size= 20 # number of nodes of the hidden layer\n",
    "\n"
   ]
  },
  {
   "cell_type": "code",
   "execution_count": 58,
   "metadata": {
    "collapsed": true
   },
   "outputs": [],
   "source": [
    "#compute the sigmoid non - linearity\n",
    "\n",
    "def sigmoid(x):\n",
    "    output = 1/(1+np.exp(-x))\n",
    "    return output"
   ]
  },
  {
   "cell_type": "code",
   "execution_count": 59,
   "metadata": {
    "collapsed": true
   },
   "outputs": [],
   "source": [
    "# take the derivative of the sigmoid function\n",
    "#this is required for the backpropagation\n",
    "def sigmoid_output_to_derivative(output):\n",
    "    return output*(1-output)"
   ]
  },
  {
   "cell_type": "code",
   "execution_count": 67,
   "metadata": {
    "collapsed": true
   },
   "outputs": [],
   "source": [
    "X=np.random.random((300,4))"
   ]
  },
  {
   "cell_type": "code",
   "execution_count": 75,
   "metadata": {},
   "outputs": [],
   "source": [
    "X=np.array(X)\n",
    "y=np.random.random((300,1))"
   ]
  },
  {
   "cell_type": "code",
   "execution_count": 76,
   "metadata": {
    "collapsed": true
   },
   "outputs": [],
   "source": [
    "y= np.array(y)"
   ]
  },
  {
   "cell_type": "code",
   "execution_count": 77,
   "metadata": {},
   "outputs": [
    {
     "name": "stdout",
     "output_type": "stream",
     "text": [
      "training with Alpha 0.001 \n",
      "Error after 0 iterations is : 0.2789569869258795 \n",
      "Error after 10000 iterations is : 0.27856814438981997 \n",
      "Error after 20000 iterations is : 0.278196564965046 \n",
      "Error after 30000 iterations is : 0.27782899610632117 \n",
      "Error after 40000 iterations is : 0.2774654198439621 \n",
      "Error after 50000 iterations is : 0.27710581725090844 \n",
      "training with Alpha 0.01 \n",
      "Error after 0 iterations is : 0.2789569869258795 \n",
      "Error after 10000 iterations is : 0.27529641566105045 \n",
      "Error after 20000 iterations is : 0.2723113297447026 \n",
      "Error after 30000 iterations is : 0.2699765759696719 \n",
      "Error after 40000 iterations is : 0.2681336992644196 \n",
      "Error after 50000 iterations is : 0.2666205885407486 \n",
      "training with Alpha 0.1 \n",
      "Error after 0 iterations is : 0.2789569869258795 \n",
      "Error after 10000 iterations is : 0.2572874162651743 \n",
      "Error after 20000 iterations is : 0.25986964489887093 \n",
      "Error after 30000 iterations is : 0.2587867414651002 \n",
      "Error after 40000 iterations is : 0.2590265069136303 \n",
      "Error after 50000 iterations is : 0.2589009620488792 \n",
      "training with Alpha 1 \n",
      "Error after 0 iterations is : 0.2789569869258795 \n",
      "Error after 10000 iterations is : 0.47245284992647035 \n",
      "Error after 20000 iterations is : 0.3629697497312834 \n",
      "Error after 30000 iterations is : 0.2572168337317043 \n",
      "Error after 40000 iterations is : 0.25701079485461625 \n",
      "Error after 50000 iterations is : 0.2569406882909783 \n",
      "training with Alpha 10 \n",
      "Error after 0 iterations is : 0.2789569869258795 \n",
      "Error after 10000 iterations is : 0.4827742058301349 \n",
      "Error after 20000 iterations is : 0.4827742058301349 \n",
      "Error after 30000 iterations is : 0.4827742058301349 \n",
      "Error after 40000 iterations is : 0.4827742058301349 \n",
      "Error after 50000 iterations is : 0.4827742058301349 \n",
      "training with Alpha 100 \n",
      "Error after 0 iterations is : 0.2789569869258795 \n",
      "Error after 10000 iterations is : 0.4827742058301349 \n",
      "Error after 20000 iterations is : 0.4827742058301349 \n",
      "Error after 30000 iterations is : 0.4827742058301349 \n",
      "Error after 40000 iterations is : 0.4827742058301349 \n",
      "Error after 50000 iterations is : 0.4827742058301349 \n",
      "training with Alpha 1000 \n",
      "Error after 0 iterations is : 0.2789569869258795 \n"
     ]
    },
    {
     "name": "stderr",
     "output_type": "stream",
     "text": [
      "C:\\Users\\Anirban\\Anaconda3\\lib\\site-packages\\ipykernel_launcher.py:4: RuntimeWarning: overflow encountered in exp\n",
      "  after removing the cwd from sys.path.\n"
     ]
    },
    {
     "name": "stdout",
     "output_type": "stream",
     "text": [
      "Error after 10000 iterations is : 0.4827742058301349 \n",
      "Error after 20000 iterations is : 0.4827742058301349 \n",
      "Error after 30000 iterations is : 0.4827742058301349 \n",
      "Error after 40000 iterations is : 0.4827742058301349 \n",
      "Error after 50000 iterations is : 0.4827742058301349 \n"
     ]
    }
   ],
   "source": [
    "for lr in lrs:\n",
    "    print(\"training with Alpha {} \" .format(lr))\n",
    "    #random weights \n",
    "    np.random.seed(1)\n",
    "    weight_0 = 2*np.random.random((4 , hidden_size))-1\n",
    "    weight_1 = 2*np.random.random((hidden_size , 1))-1\n",
    "    for j in range(60000):\n",
    "        # feed forward through the input layer , 1 layer and the second layer (op layer)\n",
    "        layer_0 = X\n",
    "        #layer_1_part_1= np.dot(layer_0 , weight_0)\n",
    "        layer_1= sigmoid(np.dot(layer_0 , weight_0))\n",
    "        #layer_2_part_1=np.dot(layer_1 ,weight_1)\n",
    "        layer_2 = sigmoid(np.dot(layer_1 ,weight_1))\n",
    "        \n",
    "        # check how much far away am I to the actual value\n",
    "        layer_2_error =layer_2-y\n",
    "        # print the error after every 10000 iteration\n",
    "        if (j%10000)==0:\n",
    "            print('Error after {} iterations is : {} ' .format( j , np.mean(np.abs(layer_2_error))))\n",
    "        \n",
    "            # now I need to move the determine which direction will the error reduce\n",
    "            # in doubt move very slowly\n",
    "            layer_2_delta = layer_2_error*sigmoid_output_to_derivative(layer_2)\n",
    "            # How much layer 1 contributes to the layer 1 error as per the weights\n",
    "            layer_1_error = layer_2_delta.dot(weight_1.T)\n",
    "\n",
    "            # in which direction is layer 1 weight reducing the most in doubt use \n",
    "            # small changes\n",
    "            layer_1_delta = layer_1_error*sigmoid_output_to_derivative(layer_1)\n",
    "\n",
    "            #update the weight\n",
    "            weight_1 -=lr*(layer_1.T.dot(layer_2_delta))\n",
    "            weight_0 -=lr*(layer_0.T.dot(layer_1_delta))\n",
    "\n",
    "\n",
    "\n"
   ]
  },
  {
   "cell_type": "code",
   "execution_count": null,
   "metadata": {
    "collapsed": true
   },
   "outputs": [],
   "source": [
    "# As per the above program the best Learning rate is 0.1 \n",
    "# So it is evident that the choice of Learning Rate has an impact on \n",
    "# the error rate : for optimal solution we should try and change the \n",
    "# direction ever so slowly else the function will jump over the minima."
   ]
  }
 ],
 "metadata": {
  "kernelspec": {
   "display_name": "Python 3",
   "language": "python",
   "name": "python3"
  },
  "language_info": {
   "codemirror_mode": {
    "name": "ipython",
    "version": 3
   },
   "file_extension": ".py",
   "mimetype": "text/x-python",
   "name": "python",
   "nbconvert_exporter": "python",
   "pygments_lexer": "ipython3",
   "version": "3.6.3"
  }
 },
 "nbformat": 4,
 "nbformat_minor": 2
}
