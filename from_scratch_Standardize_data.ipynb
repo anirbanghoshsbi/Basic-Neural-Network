{
  "nbformat": 4,
  "nbformat_minor": 0,
  "metadata": {
    "colab": {
      "name": "from_scratch_Standardize_data.ipynb",
      "version": "0.3.2",
      "provenance": []
    },
    "kernelspec": {
      "name": "python3",
      "display_name": "Python 3"
    }
  },
  "cells": [
    {
      "metadata": {
        "id": "ajUj9yI5V58s",
        "colab_type": "code",
        "colab": {}
      },
      "cell_type": "code",
      "source": [
        "# standardize value = sigma(value-mean)/(std_dev)"
      ],
      "execution_count": 0,
      "outputs": []
    },
    {
      "metadata": {
        "id": "KaJJRjRSWNft",
        "colab_type": "code",
        "colab": {}
      },
      "cell_type": "code",
      "source": [
        "#first let me calculate the std_dev : standard Deviation\n",
        "\n",
        "# import the libraries\n",
        "from math import sqrt\n",
        "\n",
        "# calculate the column means\n",
        "\n",
        "def column_mean(dataset):\n",
        "  means= [0 for i in range(len(dataset[0]))]\n",
        "  for i in range(len(dataset[0])):\n",
        "    col_values = [row[i] for row in dataset]\n",
        "    means[i] = sum(col_values)/ float(len(dataset))\n",
        "  return means\n",
        "# calculate the column standard deviation\n",
        "\n",
        "def col_stdevs(dataset , means):\n",
        "  stddevs = [0 for i in range(len(dataset[0]))]\n",
        "  for i in range(len(dataset[0])):\n",
        "    variance = [pow(row[i]-means[i],2) for row in dataset]\n",
        "    stddevs[i] = sum(variance)\n",
        "  stddevs = [sqrt(x/float(len(dataset)-1)) for x in stddevs]  \n",
        "  return stddevs\n",
        "# standardise the dataset\n",
        "def standardize_dataset(dataset , means , stddevs):\n",
        "  #since I am doing this for the entire dataset\n",
        "  # I would do it the row and col base\n",
        "  for row in dataset:\n",
        "    for col in range(len(dataset[0])):\n",
        "       row[col]= (row[col]-means[col])/stddevs[col]\n",
        "  return dataset\n",
        "    "
      ],
      "execution_count": 0,
      "outputs": []
    },
    {
      "metadata": {
        "id": "UhFOVRlaZNv_",
        "colab_type": "code",
        "colab": {}
      },
      "cell_type": "code",
      "source": [
        "# check the code\n",
        "contrived_data = [[50,30],[20,90],[30,50]]"
      ],
      "execution_count": 0,
      "outputs": []
    },
    {
      "metadata": {
        "id": "5ZLJuRyfZVw7",
        "colab_type": "code",
        "colab": {
          "base_uri": "https://localhost:8080/",
          "height": 34
        },
        "outputId": "57b19072-6900-4152-91f4-4fe0e2cf3822"
      },
      "cell_type": "code",
      "source": [
        "means = column_mean(contrived_data)\n",
        "stddevs = col_stdevs(contrived_data,means)\n",
        "standard_dev= standardize_dataset(contrived_data , means , stddevs)\n",
        "print(\"Standardize Data :\" , standard_dev)"
      ],
      "execution_count": 27,
      "outputs": [
        {
          "output_type": "stream",
          "text": [
            "Standardize Data : [[1.0910894511799618, -0.8728715609439694], [-0.8728715609439697, 1.091089451179962], [-0.21821789023599253, -0.2182178902359923]]\n"
          ],
          "name": "stdout"
        }
      ]
    },
    {
      "metadata": {
        "id": "Ul_GkSj0Zn3S",
        "colab_type": "code",
        "colab": {}
      },
      "cell_type": "code",
      "source": [
        ""
      ],
      "execution_count": 0,
      "outputs": []
    }
  ]
}