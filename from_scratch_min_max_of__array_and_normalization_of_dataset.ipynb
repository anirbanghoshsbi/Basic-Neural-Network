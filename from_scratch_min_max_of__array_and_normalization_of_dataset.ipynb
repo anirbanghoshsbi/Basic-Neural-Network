{
  "nbformat": 4,
  "nbformat_minor": 0,
  "metadata": {
    "colab": {
      "name": "from_scratch_min_max_of__array.ipynb",
      "version": "0.3.2",
      "provenance": [],
      "collapsed_sections": []
    },
    "kernelspec": {
      "name": "python3",
      "display_name": "Python 3"
    }
  },
  "cells": [
    {
      "metadata": {
        "id": "lZUF09eqgWY9",
        "colab_type": "code",
        "colab": {
          "base_uri": "https://localhost:8080/",
          "height": 34
        },
        "outputId": "3623ad19-19d2-4a28-8dc9-490b0e0449a5"
      },
      "cell_type": "code",
      "source": [
        "# Code to find the column minimum and column maximum of an array\n",
        "dataset = [[10,20],[8,1]]\n",
        "minmax =[]\n",
        "for i in range(len(dataset[0])):\n",
        "  col_values = [row[i] for row in dataset] # when ever I am finding any data wrt to column \n",
        "  #then I need to run the for loop twice first wrt to column and second wrt row\n",
        "  value_min = min(col_values)\n",
        "  value_max = max(col_values)\n",
        "  minmax.append([value_min , value_max])\n",
        "print(minmax)  "
      ],
      "execution_count": 25,
      "outputs": [
        {
          "output_type": "stream",
          "text": [
            "[[8, 10], [1, 20]]\n"
          ],
          "name": "stdout"
        }
      ]
    },
    {
      "metadata": {
        "id": "aTPgCrVMccyZ",
        "colab_type": "code",
        "colab": {}
      },
      "cell_type": "code",
      "source": [
        "# non vectorised implementation of normalization of data\n",
        "# Note here I want to change the entire dataset and not individually a \n",
        "#single column so I would start with the row and then iterate over the \n",
        "# columns\n",
        "def normalise_dataset(dataset ,minmax):\n",
        "  for row in dataset:\n",
        "    for column in range(len(row)):\n",
        "      row[column]=(row[column]-minmax[i][0])/(minmax[i][1]-minmax[i][0])\n",
        "      "
      ],
      "execution_count": 0,
      "outputs": []
    },
    {
      "metadata": {
        "id": "BDXhtVrLeUQT",
        "colab_type": "code",
        "colab": {}
      },
      "cell_type": "code",
      "source": [
        "normalise_dataset(dataset , minmax)"
      ],
      "execution_count": 0,
      "outputs": []
    },
    {
      "metadata": {
        "id": "i4I3ZjLmecst",
        "colab_type": "code",
        "colab": {
          "base_uri": "https://localhost:8080/",
          "height": 34
        },
        "outputId": "b6111036-4e29-42b2-e288-6dd428d0faaf"
      },
      "cell_type": "code",
      "source": [
        "print('The normalized dataset between 0-1 is :' ,dataset)"
      ],
      "execution_count": 29,
      "outputs": [
        {
          "output_type": "stream",
          "text": [
            "The normalized dataset between 0-1 is : [[0.47368421052631576, 1.0], [0.3684210526315789, 0.0]]\n"
          ],
          "name": "stdout"
        }
      ]
    },
    {
      "metadata": {
        "id": "F6xLJzNEe2HQ",
        "colab_type": "code",
        "colab": {}
      },
      "cell_type": "code",
      "source": [
        ""
      ],
      "execution_count": 0,
      "outputs": []
    },
    {
      "metadata": {
        "id": "rPjLWYx4hnAT",
        "colab_type": "code",
        "colab": {
          "base_uri": "https://localhost:8080/",
          "height": 34
        },
        "outputId": "cba3b4b6-3609-43f7-a3c9-b0d174beb784"
      },
      "cell_type": "code",
      "source": [
        "# idea about numpy append (and extend?!?)\n",
        "dataset_1= [[1,2],[4,3]]\n",
        "import numpy as np\n",
        " \n",
        "dataset_append = np.append(dataset_1,[[34,23,21],[54,56,37]])\n",
        "print(dataset_append)"
      ],
      "execution_count": 3,
      "outputs": [
        {
          "output_type": "stream",
          "text": [
            "[ 1  2  4  3 34 23 21 54 56 37]\n"
          ],
          "name": "stdout"
        }
      ]
    },
    {
      "metadata": {
        "id": "SuHVge6ei48B",
        "colab_type": "code",
        "colab": {}
      },
      "cell_type": "code",
      "source": [
        "x=np.append([1, 2, 3], [[4, 5, 6], [7, 8, 9]])"
      ],
      "execution_count": 0,
      "outputs": []
    },
    {
      "metadata": {
        "id": "hJVVShQ6kjtf",
        "colab_type": "code",
        "colab": {}
      },
      "cell_type": "code",
      "source": [
        "#numpy extend\n",
        "#dataset_2=[[1,2],[4,5]] the numpy does not have an extend function however , python has it\n",
        "#dataset_extend = dataset_2.extend([[1,2],[4,5]]) Need to do more research  in this line."
      ],
      "execution_count": 0,
      "outputs": []
    },
    {
      "metadata": {
        "id": "iIPbpQQPnQJs",
        "colab_type": "code",
        "colab": {}
      },
      "cell_type": "code",
      "source": [
        "#print(dataset_extend)\n",
        "\n",
        "# how to extend an array?"
      ],
      "execution_count": 0,
      "outputs": []
    },
    {
      "metadata": {
        "id": "X6nG70OknRmg",
        "colab_type": "code",
        "colab": {}
      },
      "cell_type": "code",
      "source": [
        "# finding min max using numpy array\n",
        "\n",
        "dataset_numpy = [[1,2],[4,5],[3,2]]\n",
        "# convert to numpy array\n",
        "dataset_arr = np.array(dataset_numpy)"
      ],
      "execution_count": 0,
      "outputs": []
    },
    {
      "metadata": {
        "id": "J29yksQJfl-6",
        "colab_type": "text"
      },
      "cell_type": "markdown",
      "source": [
        "# Vectorization implementation \n",
        "vectorised implementation of the normalising the data..."
      ]
    },
    {
      "metadata": {
        "id": "LbqIHm7XbtXG",
        "colab_type": "text"
      },
      "cell_type": "markdown",
      "source": [
        "# np.max is just an alias for np.amax. \n",
        "This function only works on a single input array and finds the value of maximum element in that entire array (returning a scalar). Alternatively, it takes an axis argument and will find the maximum value along an axis of the input array (returning a new array)"
      ]
    },
    {
      "metadata": {
        "id": "8l9UeCNFodsz",
        "colab_type": "code",
        "colab": {}
      },
      "cell_type": "code",
      "source": [
        "# find the min and max along the column\n",
        "# minima\n",
        "dataset_arr_min=np.min(dataset_arr ,0) #axis = 0 # column ; axis =1 row\n",
        "#maxima\n",
        "dataset_arr_max = np.max(dataset_arr , axis =0)"
      ],
      "execution_count": 0,
      "outputs": []
    },
    {
      "metadata": {
        "id": "bZjvQMhmoqzi",
        "colab_type": "code",
        "colab": {
          "base_uri": "https://localhost:8080/",
          "height": 34
        },
        "outputId": "2442f61f-0d01-408e-981e-ee0d71ff8a0e"
      },
      "cell_type": "code",
      "source": [
        "dataset_arr_min"
      ],
      "execution_count": 13,
      "outputs": [
        {
          "output_type": "execute_result",
          "data": {
            "text/plain": [
              "array([1, 2])"
            ]
          },
          "metadata": {
            "tags": []
          },
          "execution_count": 13
        }
      ]
    },
    {
      "metadata": {
        "id": "J2QQTVXNo4En",
        "colab_type": "code",
        "colab": {
          "base_uri": "https://localhost:8080/",
          "height": 34
        },
        "outputId": "f635c436-d3c2-4d59-8b16-4d9769a76ea1"
      },
      "cell_type": "code",
      "source": [
        "dataset_arr_max"
      ],
      "execution_count": 14,
      "outputs": [
        {
          "output_type": "execute_result",
          "data": {
            "text/plain": [
              "array([4, 5])"
            ]
          },
          "metadata": {
            "tags": []
          },
          "execution_count": 14
        }
      ]
    },
    {
      "metadata": {
        "id": "Z3wl_vYEo-bj",
        "colab_type": "code",
        "colab": {}
      },
      "cell_type": "code",
      "source": [
        "dataset_arr_alt_min = np.amin(dataset_arr , 0) # this is the alternate way of finding mean of an array"
      ],
      "execution_count": 0,
      "outputs": []
    },
    {
      "metadata": {
        "id": "d_FbCaMspJrg",
        "colab_type": "code",
        "colab": {
          "base_uri": "https://localhost:8080/",
          "height": 34
        },
        "outputId": "7082dd99-1db9-4b28-be5e-cb84f7424b3f"
      },
      "cell_type": "code",
      "source": [
        "dataset_arr_alt_min"
      ],
      "execution_count": 16,
      "outputs": [
        {
          "output_type": "execute_result",
          "data": {
            "text/plain": [
              "array([1, 2])"
            ]
          },
          "metadata": {
            "tags": []
          },
          "execution_count": 16
        }
      ]
    },
    {
      "metadata": {
        "id": "vUyHGGexpLfi",
        "colab_type": "code",
        "colab": {}
      },
      "cell_type": "code",
      "source": [
        "#scaling the data\n",
        "#InputX1_norm = (InputX1-X1_min)/(X1_max-X1_min)\n",
        "dataset_norm = (dataset_arr-dataset_arr_min)/(dataset_arr_max-dataset_arr_min)"
      ],
      "execution_count": 0,
      "outputs": []
    },
    {
      "metadata": {
        "id": "z8E106tocuR9",
        "colab_type": "text"
      },
      "cell_type": "markdown",
      "source": [
        "# normalization \n",
        "of dataset norm of data = (value-min)/((max-min))\n",
        "\n",
        "Normalizaztion of data leads to scaling of data between 0 and 1"
      ]
    },
    {
      "metadata": {
        "id": "15m6eTdLcR3n",
        "colab_type": "code",
        "colab": {
          "base_uri": "https://localhost:8080/",
          "height": 68
        },
        "outputId": "757db95e-d0fa-48f7-c526-ebc8af4cf38a"
      },
      "cell_type": "code",
      "source": [
        "print('The norm of the data is' , dataset_norm)"
      ],
      "execution_count": 18,
      "outputs": [
        {
          "output_type": "stream",
          "text": [
            "The norm of the data is [[0.         0.        ]\n",
            " [1.         1.        ]\n",
            " [0.66666667 0.        ]]\n"
          ],
          "name": "stdout"
        }
      ]
    },
    {
      "metadata": {
        "id": "EE_RbteuesE_",
        "colab_type": "code",
        "colab": {}
      },
      "cell_type": "code",
      "source": [
        ""
      ],
      "execution_count": 0,
      "outputs": []
    }
  ]
}