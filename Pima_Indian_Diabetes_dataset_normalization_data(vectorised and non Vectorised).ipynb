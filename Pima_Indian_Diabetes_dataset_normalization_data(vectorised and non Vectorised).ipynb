{
 "cells": [
  {
   "cell_type": "code",
   "execution_count": 49,
   "metadata": {
    "collapsed": true
   },
   "outputs": [],
   "source": [
    "# import the libraries\n",
    "from csv import reader\n"
   ]
  },
  {
   "cell_type": "code",
   "execution_count": 50,
   "metadata": {
    "collapsed": true
   },
   "outputs": [],
   "source": [
    "# define a function to read the file : non-vectorized form\n",
    "def load_dataset(filename):\n",
    "    dataset =[]\n",
    "    with open(filename , 'r') as file:\n",
    "        #read the file \n",
    "        csv_reader = reader(file)\n",
    "        for row in csv_reader:\n",
    "            if not row :\n",
    "                continue\n",
    "            dataset.append(row)\n",
    "    return dataset       \n",
    "        "
   ]
  },
  {
   "cell_type": "code",
   "execution_count": 51,
   "metadata": {},
   "outputs": [],
   "source": [
    "data = 'C://Users//Anirban//Desktop//DL4CV/machine_learning_algorithms_from_scratch/pima-indians-diabetes.csv'"
   ]
  },
  {
   "cell_type": "code",
   "execution_count": 52,
   "metadata": {
    "collapsed": true
   },
   "outputs": [],
   "source": [
    "dataset = load_dataset(data)"
   ]
  },
  {
   "cell_type": "code",
   "execution_count": 53,
   "metadata": {},
   "outputs": [
    {
     "data": {
      "text/plain": [
       "['6', '148', '72', '35', '0', '33.6', '0.627', '50', '1']"
      ]
     },
     "execution_count": 53,
     "metadata": {},
     "output_type": "execute_result"
    }
   ],
   "source": [
    "dataset[0]"
   ]
  },
  {
   "cell_type": "code",
   "execution_count": 54,
   "metadata": {},
   "outputs": [],
   "source": [
    "# convert the string data to float :non-vectorised form\n",
    "def string_to_float_data(dataset , column):\n",
    "    for row in dataset:\n",
    "        row[column]=float(row[column].strip())"
   ]
  },
  {
   "cell_type": "code",
   "execution_count": 55,
   "metadata": {},
   "outputs": [],
   "source": [
    "# find the min and max of the row columns : non vectorized form\n",
    "def dataset_minmax(dataset):\n",
    "    minmax =[]\n",
    "    for i in range(len(dataset[0])):\n",
    "        col_values =[row[i] for row in dataset]\n",
    "        value_min = min(col_values)\n",
    "        value_max = max(col_values)\n",
    "        minmax.append([value_min , value_max])\n",
    "    return minmax    \n",
    "   "
   ]
  },
  {
   "cell_type": "code",
   "execution_count": 56,
   "metadata": {
    "collapsed": true
   },
   "outputs": [],
   "source": [
    "# now we want to normalize the dataset :non-vectorised form\n",
    "def normalize_dataset(dataset , minmax):\n",
    "    for row in dataset:\n",
    "        for col in range(len(dataset[0])):\n",
    "            row[col]=(row[col]-minmax[col][0])/(minmax[col][1]-minmax[col][0])\n",
    "    return dataset         "
   ]
  },
  {
   "cell_type": "code",
   "execution_count": 57,
   "metadata": {},
   "outputs": [],
   "source": [
    "# convert string to float : non-vectorised form\n",
    "for i in range(len(dataset[0])):\n",
    "             string_to_float_data(dataset ,i)\n",
    "    "
   ]
  },
  {
   "cell_type": "code",
   "execution_count": 58,
   "metadata": {},
   "outputs": [
    {
     "data": {
      "text/plain": [
       "[6.0, 148.0, 72.0, 35.0, 0.0, 33.6, 0.627, 50.0, 1.0]"
      ]
     },
     "execution_count": 58,
     "metadata": {},
     "output_type": "execute_result"
    }
   ],
   "source": [
    "# check dataset is converted from string to float\n",
    "dataset[0]"
   ]
  },
  {
   "cell_type": "code",
   "execution_count": 60,
   "metadata": {},
   "outputs": [],
   "source": [
    "# notmalize the dataset : non vectorised form\n",
    "minmax= dataset_minmax(dataset)\n",
    "dataset_norm_non_vectorised = normalize_dataset(dataset , minmax)"
   ]
  },
  {
   "cell_type": "code",
   "execution_count": 64,
   "metadata": {},
   "outputs": [
    {
     "data": {
      "text/plain": [
       "[[0.35294117647058826,\n",
       "  0.7437185929648241,\n",
       "  0.5901639344262295,\n",
       "  0.35353535353535354,\n",
       "  0.0,\n",
       "  0.5007451564828614,\n",
       "  0.23441502988898377,\n",
       "  0.48333333333333334,\n",
       "  1.0],\n",
       " [0.058823529411764705,\n",
       "  0.4271356783919598,\n",
       "  0.5409836065573771,\n",
       "  0.29292929292929293,\n",
       "  0.0,\n",
       "  0.3964232488822653,\n",
       "  0.11656703672075147,\n",
       "  0.16666666666666666,\n",
       "  0.0]]"
      ]
     },
     "execution_count": 64,
     "metadata": {},
     "output_type": "execute_result"
    }
   ],
   "source": [
    "# print the normalised dataset :non vectorised form\n",
    "dataset_norm_non_vectorised[0:2]"
   ]
  },
  {
   "cell_type": "code",
   "execution_count": 33,
   "metadata": {},
   "outputs": [
    {
     "data": {
      "text/plain": [
       "['6', '148', '72', '35', '0', '33.6', '0.627', '50', '1']"
      ]
     },
     "execution_count": 33,
     "metadata": {},
     "output_type": "execute_result"
    }
   ],
   "source": [
    "# add a dataset\n",
    "dataset_1 = load_dataset(data)\n",
    "dataset_1[0]"
   ]
  },
  {
   "cell_type": "code",
   "execution_count": 39,
   "metadata": {},
   "outputs": [],
   "source": [
    "# another way to convert the list of string to float : vectorised form\n",
    "import numpy as np\n",
    "dataset_1 = np.array(dataset_1)\n",
    "dataset_1 = dataset_1.astype(np.float)"
   ]
  },
  {
   "cell_type": "code",
   "execution_count": 40,
   "metadata": {},
   "outputs": [
    {
     "data": {
      "text/plain": [
       "array([   6.   ,  148.   ,   72.   ,   35.   ,    0.   ,   33.6  ,\n",
       "          0.627,   50.   ,    1.   ])"
      ]
     },
     "execution_count": 40,
     "metadata": {},
     "output_type": "execute_result"
    }
   ],
   "source": [
    "dataset_1[0]"
   ]
  },
  {
   "cell_type": "code",
   "execution_count": 41,
   "metadata": {
    "collapsed": true
   },
   "outputs": [],
   "source": [
    "#find the column minima and maxima using the vectorised form\n",
    "# find the minima and maxima along the column axis =0\n",
    "dataset_arr_min = np.min(dataset_1,axis =0)\n",
    "dataset_arr_max = np.max(dataset_1 , axis=0)"
   ]
  },
  {
   "cell_type": "code",
   "execution_count": 42,
   "metadata": {
    "collapsed": true
   },
   "outputs": [],
   "source": [
    "#Scaling the data : normalize the data\n",
    "#(Input-X1_min)/(X1_max-X1_min)\n",
    "dataset_norm= (dataset_1-dataset_arr_min)/(dataset_arr_max-dataset_arr_min)"
   ]
  },
  {
   "cell_type": "code",
   "execution_count": 43,
   "metadata": {},
   "outputs": [
    {
     "data": {
      "text/plain": [
       "array([[ 0.35294118,  0.74371859,  0.59016393, ...,  0.23441503,\n",
       "         0.48333333,  1.        ],\n",
       "       [ 0.05882353,  0.42713568,  0.54098361, ...,  0.11656704,\n",
       "         0.16666667,  0.        ],\n",
       "       [ 0.47058824,  0.91959799,  0.52459016, ...,  0.25362938,\n",
       "         0.18333333,  1.        ],\n",
       "       ..., \n",
       "       [ 0.29411765,  0.6080402 ,  0.59016393, ...,  0.07130658,\n",
       "         0.15      ,  0.        ],\n",
       "       [ 0.05882353,  0.63316583,  0.49180328, ...,  0.11571307,\n",
       "         0.43333333,  1.        ],\n",
       "       [ 0.05882353,  0.46733668,  0.57377049, ...,  0.10119556,\n",
       "         0.03333333,  0.        ]])"
      ]
     },
     "execution_count": 43,
     "metadata": {},
     "output_type": "execute_result"
    }
   ],
   "source": [
    "dataset_norm"
   ]
  },
  {
   "cell_type": "code",
   "execution_count": null,
   "metadata": {
    "collapsed": true
   },
   "outputs": [],
   "source": []
  }
 ],
 "metadata": {
  "kernelspec": {
   "display_name": "Python 3",
   "language": "python",
   "name": "python3"
  },
  "language_info": {
   "codemirror_mode": {
    "name": "ipython",
    "version": 3
   },
   "file_extension": ".py",
   "mimetype": "text/x-python",
   "name": "python",
   "nbconvert_exporter": "python",
   "pygments_lexer": "ipython3",
   "version": "3.6.3"
  }
 },
 "nbformat": 4,
 "nbformat_minor": 2
}
