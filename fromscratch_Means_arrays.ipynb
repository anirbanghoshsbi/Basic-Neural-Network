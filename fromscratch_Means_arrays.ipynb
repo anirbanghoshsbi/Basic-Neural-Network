{
  "nbformat": 4,
  "nbformat_minor": 0,
  "metadata": {
    "colab": {
      "name": "Means_arrays_fromscratch.ipynb",
      "version": "0.3.2",
      "provenance": []
    },
    "kernelspec": {
      "name": "python3",
      "display_name": "Python 3"
    }
  },
  "cells": [
    {
      "metadata": {
        "id": "MemkcGjMzd4S",
        "colab_type": "code",
        "colab": {}
      },
      "cell_type": "code",
      "source": [
        "#Finding Column means:\n",
        "#Define the dataset\n",
        "dataset = [[1,2,3],\n",
        "           [3,4,5],\n",
        "           [6,7,8]]"
      ],
      "execution_count": 0,
      "outputs": []
    },
    {
      "metadata": {
        "id": "z1TrodyZzqiL",
        "colab_type": "code",
        "colab": {
          "base_uri": "https://localhost:8080/",
          "height": 34
        },
        "outputId": "436caf8a-3acf-41c7-8575-a68e493094d8"
      },
      "cell_type": "code",
      "source": [
        "# define a placeholed for the means to be stored later\n",
        "means =[0 for i in range(len(dataset[0]))]\n",
        "means\n",
        "  "
      ],
      "execution_count": 2,
      "outputs": [
        {
          "output_type": "execute_result",
          "data": {
            "text/plain": [
              "[0, 0, 0]"
            ]
          },
          "metadata": {
            "tags": []
          },
          "execution_count": 2
        }
      ]
    },
    {
      "metadata": {
        "id": "Vb1twdv7zqwA",
        "colab_type": "code",
        "colab": {
          "base_uri": "https://localhost:8080/",
          "height": 119
        },
        "outputId": "4a5def5e-2140-48ad-d828-537368afc7fc"
      },
      "cell_type": "code",
      "source": [
        "#since I am finding the means of column I iterate first on the column than on the row\n",
        "for i in range(len(dataset[0])):\n",
        "  col_values=[row[i] for row in dataset]\n",
        "  print(\"col_values:\",col_values)\n",
        "  # store the means in the means\n",
        "  means[i]=sum(col_values)/3.0\n",
        "  print(\"mean[i]\",means[i])"
      ],
      "execution_count": 6,
      "outputs": [
        {
          "output_type": "stream",
          "text": [
            "col_values: [1, 3, 6]\n",
            "mean[i] 3.3333333333333335\n",
            "col_values: [2, 4, 7]\n",
            "mean[i] 4.333333333333333\n",
            "col_values: [3, 5, 8]\n",
            "mean[i] 5.333333333333333\n"
          ],
          "name": "stdout"
        }
      ]
    },
    {
      "metadata": {
        "id": "zY9SQGgCzq0T",
        "colab_type": "code",
        "colab": {}
      },
      "cell_type": "code",
      "source": [
        "#Find the row means\n",
        "dataset=[[1,3,5],\n",
        "         [2,4,6],\n",
        "         [7,8,9],\n",
        "        [11,12,13]]"
      ],
      "execution_count": 0,
      "outputs": []
    },
    {
      "metadata": {
        "id": "b9MGVklkzq3G",
        "colab_type": "code",
        "colab": {}
      },
      "cell_type": "code",
      "source": [
        "row_sum=[sum(list(row))/float(len(dataset[0])) for row in dataset]"
      ],
      "execution_count": 0,
      "outputs": []
    },
    {
      "metadata": {
        "id": "0eTREK3dzq5q",
        "colab_type": "code",
        "colab": {
          "base_uri": "https://localhost:8080/",
          "height": 34
        },
        "outputId": "3fa23096-bd16-4f6c-9fe2-5985028497ba"
      },
      "cell_type": "code",
      "source": [
        "print('means along the row :',row_sum)"
      ],
      "execution_count": 10,
      "outputs": [
        {
          "output_type": "stream",
          "text": [
            "means along the row : [2.0, 4.0, 7.0]\n"
          ],
          "name": "stdout"
        }
      ]
    },
    {
      "metadata": {
        "id": "FngBjc4uzq8E",
        "colab_type": "code",
        "colab": {}
      },
      "cell_type": "code",
      "source": [
        "#doing the same using numpy ---Along the row\n",
        "import numpy as np\n",
        "dataset = np.array(dataset)\n",
        "sum_of_row=np.sum(dataset, axis=1).tolist() # using numpy to find rows sum\n",
        "mean_of_rows = np.mean(dataset ,axis=1).tolist()"
      ],
      "execution_count": 0,
      "outputs": []
    },
    {
      "metadata": {
        "id": "f9EKLsizzq_P",
        "colab_type": "code",
        "colab": {
          "base_uri": "https://localhost:8080/",
          "height": 34
        },
        "outputId": "d4538c09-5b39-408f-fac6-878a37f8c7c2"
      },
      "cell_type": "code",
      "source": [
        "print('means along the row :',mean_of_rows)"
      ],
      "execution_count": 12,
      "outputs": [
        {
          "output_type": "stream",
          "text": [
            "means along the row : [2.0, 4.0, 7.0]\n"
          ],
          "name": "stdout"
        }
      ]
    },
    {
      "metadata": {
        "id": "8zmZC4fc06mI",
        "colab_type": "code",
        "colab": {
          "base_uri": "https://localhost:8080/",
          "height": 34
        },
        "outputId": "3a6416fe-b8a0-4fd9-8a62-3d321d61be3e"
      },
      "cell_type": "code",
      "source": [
        "#doing the same using numpy ---Along the column\n",
        "sum_of_col=np.sum(dataset, axis=0).tolist() # using numpy to find col sum\n",
        "mean_of_col = np.mean(dataset ,axis=0).tolist()\n",
        "print('means along the col :',mean_of_col)"
      ],
      "execution_count": 13,
      "outputs": [
        {
          "output_type": "stream",
          "text": [
            "means along the col : [3.3333333333333335, 4.333333333333333, 5.333333333333333]\n"
          ],
          "name": "stdout"
        }
      ]
    }
  ]
}